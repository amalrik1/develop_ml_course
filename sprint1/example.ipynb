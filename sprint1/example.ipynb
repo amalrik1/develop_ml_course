{
 "cells": [
  {
   "cell_type": "code",
   "execution_count": 6,
   "id": "facd307b",
   "metadata": {},
   "outputs": [],
   "source": [
    "import pandas as pd\n",
    "import json\n",
    "    # SystemMessage — системный промпт.\n",
    "    # HumanMessage — пользовательский промпт.\n",
    "from langchain_core.messages import SystemMessage, HumanMessage\n",
    "from langchain_gigachat.chat_models import GigaChat\n",
    "from langchain_core.prompts import PromptTemplate\n",
    "from langchain_core.output_parsers import StrOutputParser\n",
    "\n",
    "input_dataset = \"rental_applications_text.csv\"\n",
    "etalon_dataset = \"ental_applications_amount.csv\"\n",
    "output_file = \"submission.csv\"\n",
    "\n",
    "llm = GigaChat(\n",
    "# Для авторизации запросов используйте ключ, полученный в проекте GigaChat API\n",
    "credentials=\"OWU5OTAwNDYtZmU5Ny00YzU3LWJiNWQtMWRkMjliM2Q5YmExOmEzZmIxNTBiLWJjMjgtNDk2Mi1hOTUyLWIzYzA5M2M5Njc1ZQ==\",\n",
    "verify_ssl_certs=False,\n",
    "# Имя модели, по умолчанию будет Lite\n",
    "model='GigaChat-2',\n",
    "temperature=0.2  # Установите желаемую температуру (значение от 0 до 1)\n",
    ")"
   ]
  },
  {
   "cell_type": "code",
   "execution_count": 7,
   "id": "25239016",
   "metadata": {},
   "outputs": [],
   "source": [
    "# Простой промпт для извлечения количества людей\n",
    "basic_prompt = PromptTemplate(\n",
    "    input_variables=[\"text\"],\n",
    "    template=\"\"\"\n",
    "Проанализируй следующий текст заявки на аренду жилья и извлеки количество человек, которые будут проживать.\n",
    "\n",
    "Текст заявки: {text}\n",
    "\n",
    "Верни только число (целое число), соответствующее количеству проживающих.\n",
    "Если количество не указано явно, постарайся определить его по контексту.\n",
    "\n",
    "Количество человек:\"\"\"\n",
    ")"
   ]
  },
  {
   "cell_type": "code",
   "execution_count": 8,
   "id": "670ea78f",
   "metadata": {},
   "outputs": [
    {
     "name": "stdout",
     "output_type": "stream",
     "text": [
      "Текст: Ищу квартиру для семьи из четырех человек\n",
      "Результат: 4\n",
      "---\n",
      "Текст: Нужна студия для одного\n",
      "Результат: 1\n",
      "---\n",
      "Текст: Семья с двумя детьми ищет жилье\n",
      "Результат: 4\n",
      "---\n"
     ]
    }
   ],
   "source": [
    "# Создание цепочки\n",
    "chain = basic_prompt | llm | StrOutputParser()\n",
    "\n",
    "# Тестирование\n",
    "test_texts = [\n",
    "    \"Ищу квартиру для семьи из четырех человек\",\n",
    "    \"Нужна студия для одного\",\n",
    "    \"Семья с двумя детьми ищет жилье\"\n",
    "]\n",
    "\n",
    "for text in test_texts:\n",
    "    result = chain.invoke({\"text\": text})\n",
    "    print(f\"Текст: {text}\")\n",
    "    print(f\"Результат: {result}\")\n",
    "    print(\"---\")\n"
   ]
  }
 ],
 "metadata": {
  "kernelspec": {
   "display_name": "Python 3",
   "language": "python",
   "name": "python3"
  },
  "language_info": {
   "codemirror_mode": {
    "name": "ipython",
    "version": 3
   },
   "file_extension": ".py",
   "mimetype": "text/x-python",
   "name": "python",
   "nbconvert_exporter": "python",
   "pygments_lexer": "ipython3",
   "version": "3.12.10"
  }
 },
 "nbformat": 4,
 "nbformat_minor": 5
}
