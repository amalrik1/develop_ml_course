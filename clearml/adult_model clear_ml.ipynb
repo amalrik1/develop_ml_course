{
  "cells": [
    {
      "cell_type": "markdown",
      "metadata": {
        "colab_type": "text",
        "id": "view-in-github"
      },
      "source": [
        "<a href=\"https://colab.research.google.com/github/amalrik1/develop_ml_course/blob/main/practice2/adult_model.ipynb\" target=\"_parent\"><img src=\"https://colab.research.google.com/assets/colab-badge.svg\" alt=\"Open In Colab\"/></a>"
      ]
    },
    {
      "cell_type": "markdown",
      "metadata": {
        "id": "PtxEEEcJH_l0"
      },
      "source": [
        "Пример демонстрирует импорт, предобработку и построение модели машинного обучения для датасета [Adult](https://www.kaggle.com/datasets/wenruliu/adult-income-dataset).\n",
        "\n",
        "Итоговая модель сохраняется как сериализованный pickle-объект.\n",
        "\n",
        "Датасет, модель и эксперимент загружаются в ClearML.\n",
        "Авторизационные ключи в облако ClearML должны быть ваши личные."
      ]
    },
    {
      "cell_type": "code",
      "execution_count": 1,
      "metadata": {},
      "outputs": [
        {
          "name": "stdout",
          "output_type": "stream",
          "text": [
            "env: CLEARML_WEB_HOST=http://10.200.1.43:8080/\n",
            "env: CLEARML_API_HOST=http://10.200.1.43:8008\n",
            "env: CLEARML_FILES_HOST=http://10.200.1.43:8081\n",
            "env: CLEARML_API_ACCESS_KEY=ZX5U64S5N72PZOXRZA5Q5OBJ6689QX\n",
            "env: CLEARML_API_SECRET_KEY=WaURJ_NjFCoZPQyDDrUU41LgwowqFX-slFNmSr5rER1C0catHTC8RIsxaAyARQ0Cr5s\n"
          ]
        }
      ],
      "source": [
        "%env CLEARML_WEB_HOST=http://10.200.1.43:8080/\n",
        "%env CLEARML_API_HOST=http://10.200.1.43:8008\n",
        "%env CLEARML_FILES_HOST=http://10.200.1.43:8081\n",
        "%env CLEARML_API_ACCESS_KEY=ZX5U64S5N72PZOXRZA5Q5OBJ6689QX\n",
        "%env CLEARML_API_SECRET_KEY=WaURJ_NjFCoZPQyDDrUU41LgwowqFX-slFNmSr5rER1C0catHTC8RIsxaAyARQ0Cr5s"
      ]
    },
    {
      "cell_type": "code",
      "execution_count": 7,
      "metadata": {
        "colab": {
          "base_uri": "https://localhost:8080/",
          "height": 382
        },
        "id": "YUUt_qz5kj7q",
        "outputId": "c8f23451-3790-4851-f119-48e55ccbb2d7"
      },
      "outputs": [],
      "source": [
        "from clearml import Task, Logger\n",
        "import pandas as pd\n",
        "import numpy as np\n",
        "from sklearn import preprocessing\n",
        "import seaborn as sns\n",
        "import matplotlib.pyplot as plt"
      ]
    },
    {
      "cell_type": "code",
      "execution_count": 3,
      "metadata": {},
      "outputs": [
        {
          "name": "stdout",
          "output_type": "stream",
          "text": [
            "ClearML Task: created new task id=00c47c625913411983f214fd895e6130\n",
            "2024-10-09 17:45:09,747 - clearml.Repository Detection - WARNING - Could not read Jupyter Notebook: No module named 'nbconvert'\n",
            "2024-10-09 17:45:09,755 - clearml.Repository Detection - WARNING - Please install nbconvert using \"pip install nbconvert\"\n",
            "ClearML results page: http://10.200.1.43:8080/projects/2ed7f03f23174e768dca606caeaeae7c/experiments/00c47c625913411983f214fd895e6130/output/log\n",
            "2024-10-09 17:45:10,526 - clearml.Task - INFO - Storing jupyter notebook directly as code\n",
            "CLEARML-SERVER new package available: UPGRADE to v1.16.2 is recommended!\n",
            "Release Notes:\n",
            "### Bug Fixes\n",
            "- Fix no graphs are shown in workers and queues screens\n"
          ]
        },
        {
          "name": "stdout",
          "output_type": "stream",
          "text": [
            "ClearML Monitor: GPU monitoring failed getting GPU reading, switching off GPU monitoring\n",
            "ClearML Monitor: Could not detect iteration reporting, falling back to iterations as seconds-from-start\n",
            "2024-10-09 17:48:51,475 - clearml.storage - INFO - Uploading: 5.50MB to d:/code/polytex/4/adults.csv\n"
          ]
        },
        {
          "name": "stderr",
          "output_type": "stream",
          "text": [
            "                                             0% | 0.00/5.5 MB [00:00<?, ?MB/s]: d:\\code\\polytex\\.venv\\Lib\\site-packages\\tqdm\\std.py:636: TqdmWarning:\n",
            "\n",
            "clamping frac to range [0, 1]\n",
            "\n",
            "██████████████████████████████████ 100% | 5.50/5.5 MB [00:00<00:00, 49.14MB/s]: \n"
          ]
        }
      ],
      "source": [
        "# Чтобы начать работать с ClearML инициируем новую сессию:\n",
        "task = Task.init(\n",
        "    project_name='Adult model', \n",
        "    task_name='Эксперимент  1', \n",
        "    tags=['DecisionTreeClassifier'])"
      ]
    },
    {
      "cell_type": "markdown",
      "metadata": {},
      "source": [
        "Загрузим датасет\n",
        "Помимо загрузки данных в pandas, мы попутно отправляем наши данные в ClearML как Артефакт, просто указав путь к CSV-файлу и задав имя артифакта. Все загруженные артефакты можно найти на вкладке Artifacts, соответствующего эксперимента."
      ]
    },
    {
      "cell_type": "code",
      "execution_count": 8,
      "metadata": {},
      "outputs": [
        {
          "data": {
            "text/plain": [
              "True"
            ]
          },
          "execution_count": 8,
          "metadata": {},
          "output_type": "execute_result"
        }
      ],
      "source": [
        "\n",
        "fpath = 'adults.csv'\n",
        "df_raw = pd.read_csv(fpath)\n",
        "task.upload_artifact(name='data.raw', artifact_object=fpath)"
      ]
    },
    {
      "cell_type": "code",
      "execution_count": 9,
      "metadata": {},
      "outputs": [
        {
          "data": {
            "text/html": [
              "<div>\n",
              "<style scoped>\n",
              "    .dataframe tbody tr th:only-of-type {\n",
              "        vertical-align: middle;\n",
              "    }\n",
              "\n",
              "    .dataframe tbody tr th {\n",
              "        vertical-align: top;\n",
              "    }\n",
              "\n",
              "    .dataframe thead th {\n",
              "        text-align: right;\n",
              "    }\n",
              "</style>\n",
              "<table border=\"1\" class=\"dataframe\">\n",
              "  <thead>\n",
              "    <tr style=\"text-align: right;\">\n",
              "      <th></th>\n",
              "      <th>age</th>\n",
              "      <th>workclass</th>\n",
              "      <th>fnlwgt</th>\n",
              "      <th>education</th>\n",
              "      <th>education_num</th>\n",
              "      <th>marital_status</th>\n",
              "      <th>occupation</th>\n",
              "      <th>relationship</th>\n",
              "      <th>race</th>\n",
              "      <th>sex</th>\n",
              "      <th>capital_gain</th>\n",
              "      <th>capital_loss</th>\n",
              "      <th>hours_per_week</th>\n",
              "      <th>native_country</th>\n",
              "      <th>class</th>\n",
              "    </tr>\n",
              "  </thead>\n",
              "  <tbody>\n",
              "    <tr>\n",
              "      <th>0</th>\n",
              "      <td>39</td>\n",
              "      <td>State-gov</td>\n",
              "      <td>77516</td>\n",
              "      <td>Bachelors</td>\n",
              "      <td>13</td>\n",
              "      <td>Never-married</td>\n",
              "      <td>Adm-clerical</td>\n",
              "      <td>Not-in-family</td>\n",
              "      <td>White</td>\n",
              "      <td>Male</td>\n",
              "      <td>2174</td>\n",
              "      <td>0</td>\n",
              "      <td>40</td>\n",
              "      <td>United-States</td>\n",
              "      <td>&lt;=50K</td>\n",
              "    </tr>\n",
              "    <tr>\n",
              "      <th>1</th>\n",
              "      <td>50</td>\n",
              "      <td>Self-emp-not-inc</td>\n",
              "      <td>83311</td>\n",
              "      <td>Bachelors</td>\n",
              "      <td>13</td>\n",
              "      <td>Married-civ-spouse</td>\n",
              "      <td>Exec-managerial</td>\n",
              "      <td>Husband</td>\n",
              "      <td>White</td>\n",
              "      <td>Male</td>\n",
              "      <td>0</td>\n",
              "      <td>0</td>\n",
              "      <td>13</td>\n",
              "      <td>United-States</td>\n",
              "      <td>&lt;=50K</td>\n",
              "    </tr>\n",
              "    <tr>\n",
              "      <th>2</th>\n",
              "      <td>38</td>\n",
              "      <td>Private</td>\n",
              "      <td>215646</td>\n",
              "      <td>HS-grad</td>\n",
              "      <td>9</td>\n",
              "      <td>Divorced</td>\n",
              "      <td>Handlers-cleaners</td>\n",
              "      <td>Not-in-family</td>\n",
              "      <td>White</td>\n",
              "      <td>Male</td>\n",
              "      <td>0</td>\n",
              "      <td>0</td>\n",
              "      <td>40</td>\n",
              "      <td>United-States</td>\n",
              "      <td>&lt;=50K</td>\n",
              "    </tr>\n",
              "    <tr>\n",
              "      <th>3</th>\n",
              "      <td>53</td>\n",
              "      <td>Private</td>\n",
              "      <td>234721</td>\n",
              "      <td>11th</td>\n",
              "      <td>7</td>\n",
              "      <td>Married-civ-spouse</td>\n",
              "      <td>Handlers-cleaners</td>\n",
              "      <td>Husband</td>\n",
              "      <td>Black</td>\n",
              "      <td>Male</td>\n",
              "      <td>0</td>\n",
              "      <td>0</td>\n",
              "      <td>40</td>\n",
              "      <td>United-States</td>\n",
              "      <td>&lt;=50K</td>\n",
              "    </tr>\n",
              "    <tr>\n",
              "      <th>4</th>\n",
              "      <td>28</td>\n",
              "      <td>Private</td>\n",
              "      <td>338409</td>\n",
              "      <td>Bachelors</td>\n",
              "      <td>13</td>\n",
              "      <td>Married-civ-spouse</td>\n",
              "      <td>Prof-specialty</td>\n",
              "      <td>Wife</td>\n",
              "      <td>Black</td>\n",
              "      <td>Female</td>\n",
              "      <td>0</td>\n",
              "      <td>0</td>\n",
              "      <td>40</td>\n",
              "      <td>Cuba</td>\n",
              "      <td>&lt;=50K</td>\n",
              "    </tr>\n",
              "  </tbody>\n",
              "</table>\n",
              "</div>"
            ],
            "text/plain": [
              "   age          workclass  fnlwgt   education  education_num  \\\n",
              "0   39          State-gov   77516   Bachelors             13   \n",
              "1   50   Self-emp-not-inc   83311   Bachelors             13   \n",
              "2   38            Private  215646     HS-grad              9   \n",
              "3   53            Private  234721        11th              7   \n",
              "4   28            Private  338409   Bachelors             13   \n",
              "\n",
              "        marital_status          occupation    relationship    race      sex  \\\n",
              "0        Never-married        Adm-clerical   Not-in-family   White     Male   \n",
              "1   Married-civ-spouse     Exec-managerial         Husband   White     Male   \n",
              "2             Divorced   Handlers-cleaners   Not-in-family   White     Male   \n",
              "3   Married-civ-spouse   Handlers-cleaners         Husband   Black     Male   \n",
              "4   Married-civ-spouse      Prof-specialty            Wife   Black   Female   \n",
              "\n",
              "   capital_gain  capital_loss  hours_per_week  native_country   class  \n",
              "0          2174             0              40   United-States   <=50K  \n",
              "1             0             0              13   United-States   <=50K  \n",
              "2             0             0              40   United-States   <=50K  \n",
              "3             0             0              40   United-States   <=50K  \n",
              "4             0             0              40            Cuba   <=50K  "
            ]
          },
          "execution_count": 9,
          "metadata": {},
          "output_type": "execute_result"
        }
      ],
      "source": [
        "df_raw.head()"
      ]
    },
    {
      "cell_type": "markdown",
      "metadata": {},
      "source": [
        "ClearML может хранить в виде Артифактов практически любые Python-объекты. Здесь мы поместили в Артефакт вывод пандосовского метода describe. "
      ]
    },
    {
      "cell_type": "code",
      "execution_count": 10,
      "metadata": {},
      "outputs": [
        {
          "data": {
            "text/plain": [
              "True"
            ]
          },
          "execution_count": 10,
          "metadata": {},
          "output_type": "execute_result"
        }
      ],
      "source": [
        "task.upload_artifact(\n",
        "    name='eda.describe.object', \n",
        "    artifact_object=df_raw.describe(include=object))\n",
        "task.upload_artifact(\n",
        "    name='eda.describe.number', \n",
        "    artifact_object=df_raw.describe(include=np.number))"
      ]
    },
    {
      "cell_type": "code",
      "execution_count": 13,
      "metadata": {
        "id": "eH8BZHC6knqz"
      },
      "outputs": [],
      "source": [
        "df = df.drop(['fnlwgt', 'education_num'], axis=1)"
      ]
    },
    {
      "cell_type": "code",
      "execution_count": 14,
      "metadata": {
        "id": "vg40g6tXlnW_"
      },
      "outputs": [],
      "source": [
        "col_names = df.columns\n",
        "\n",
        "for c in col_names:\n",
        "    df = df.replace(\"?\", numpy.NaN)\n",
        "df = df.apply(lambda x: x.fillna(x.value_counts().index[0]))"
      ]
    },
    {
      "cell_type": "code",
      "execution_count": 15,
      "metadata": {
        "colab": {
          "base_uri": "https://localhost:8080/"
        },
        "id": "DlINWIXUnNXt",
        "outputId": "07b922aa-e36c-492c-8e9e-cbd70820333d"
      },
      "outputs": [
        {
          "name": "stdout",
          "output_type": "stream",
          "text": [
            "{'workclass': {' ?': 0, ' Federal-gov': 1, ' Local-gov': 2, ' Never-worked': 3, ' Private': 4, ' Self-emp-inc': 5, ' Self-emp-not-inc': 6, ' State-gov': 7, ' Without-pay': 8}, 'race': {' Amer-Indian-Eskimo': 0, ' Asian-Pac-Islander': 1, ' Black': 2, ' Other': 3, ' White': 4}, 'education': {' 10th': 0, ' 11th': 1, ' 12th': 2, ' 1st-4th': 3, ' 5th-6th': 4, ' 7th-8th': 5, ' 9th': 6, ' Assoc-acdm': 7, ' Assoc-voc': 8, ' Bachelors': 9, ' Doctorate': 10, ' HS-grad': 11, ' Masters': 12, ' Preschool': 13, ' Prof-school': 14, ' Some-college': 15}, 'marital_status': {' Divorced': 0, ' Married-AF-spouse': 1, ' Married-civ-spouse': 2, ' Married-spouse-absent': 3, ' Never-married': 4, ' Separated': 5, ' Widowed': 6}, 'occupation': {' ?': 0, ' Adm-clerical': 1, ' Armed-Forces': 2, ' Craft-repair': 3, ' Exec-managerial': 4, ' Farming-fishing': 5, ' Handlers-cleaners': 6, ' Machine-op-inspct': 7, ' Other-service': 8, ' Priv-house-serv': 9, ' Prof-specialty': 10, ' Protective-serv': 11, ' Sales': 12, ' Tech-support': 13, ' Transport-moving': 14}, 'relationship': {' Husband': 0, ' Not-in-family': 1, ' Other-relative': 2, ' Own-child': 3, ' Unmarried': 4, ' Wife': 5}, 'sex': {' Female': 0, ' Male': 1}, 'native_country': {' ?': 0, ' Cambodia': 1, ' Canada': 2, ' China': 3, ' Columbia': 4, ' Cuba': 5, ' Dominican-Republic': 6, ' Ecuador': 7, ' El-Salvador': 8, ' England': 9, ' France': 10, ' Germany': 11, ' Greece': 12, ' Guatemala': 13, ' Haiti': 14, ' Holand-Netherlands': 15, ' Honduras': 16, ' Hong': 17, ' Hungary': 18, ' India': 19, ' Iran': 20, ' Ireland': 21, ' Italy': 22, ' Jamaica': 23, ' Japan': 24, ' Laos': 25, ' Mexico': 26, ' Nicaragua': 27, ' Outlying-US(Guam-USVI-etc)': 28, ' Peru': 29, ' Philippines': 30, ' Poland': 31, ' Portugal': 32, ' Puerto-Rico': 33, ' Scotland': 34, ' South': 35, ' Taiwan': 36, ' Thailand': 37, ' Trinadad&Tobago': 38, ' United-States': 39, ' Vietnam': 40, ' Yugoslavia': 41}, 'class': {' <=50K': 0, ' >50K': 1}}\n"
          ]
        }
      ],
      "source": [
        "df.replace(['Divorced', 'Married-AF-spouse',\n",
        "            'Married-civ-spouse', 'Married-spouse-absent',\n",
        "            'Never-married', 'Separated', 'Widowed'],\n",
        "           ['divorced', 'married', 'married', 'married',\n",
        "            'not married', 'not married', 'not married'], inplace=True)\n",
        "\n",
        "category_col = ['workclass', 'race', 'education', 'marital_status', 'occupation',\n",
        "                'relationship', 'sex', 'native_country', 'class']\n",
        "labelEncoder = preprocessing.LabelEncoder()\n",
        "\n",
        "mapping_dict = {}\n",
        "for col in category_col:\n",
        "    df[col] = labelEncoder.fit_transform(df[col])\n",
        "\n",
        "    le_name_mapping = dict(zip(labelEncoder.classes_,\n",
        "                               labelEncoder.transform(labelEncoder.classes_)))\n",
        "\n",
        "    mapping_dict[col] = le_name_mapping\n",
        "print(mapping_dict)"
      ]
    },
    {
      "cell_type": "code",
      "execution_count": 16,
      "metadata": {
        "id": "gJrg1wV-nXx_"
      },
      "outputs": [],
      "source": [
        "from sklearn.model_selection import train_test_split\n",
        "from sklearn.tree import DecisionTreeClassifier\n",
        "from sklearn.metrics import accuracy_score\n",
        "\n",
        "X = df.values[:, 0:12]\n",
        "Y = df.values[:, 12]"
      ]
    },
    {
      "cell_type": "code",
      "execution_count": 17,
      "metadata": {
        "colab": {
          "base_uri": "https://localhost:8080/"
        },
        "id": "LiuCTXS_nbBh",
        "outputId": "b5b473eb-e1e8-4857-ff2c-f3d4e82ea706"
      },
      "outputs": [
        {
          "name": "stdout",
          "output_type": "stream",
          "text": [
            "Decision Tree using Gini Index\n",
            "Accuracy is  82.5769467003344\n"
          ]
        }
      ],
      "source": [
        "X_train, X_test, y_train, y_test = train_test_split(\n",
        "           X, Y, test_size = 0.3, random_state = 100)\n",
        "\n",
        "dt_clf_gini = DecisionTreeClassifier(criterion = \"gini\",\n",
        "                                     random_state = 100,\n",
        "                                     max_depth = 5,\n",
        "                                     min_samples_leaf = 5)\n",
        "\n",
        "dt_clf_gini.fit(X_train, y_train)\n",
        "y_pred_gini = dt_clf_gini.predict(X_test)\n",
        "\n",
        "print (\"Decision Tree using Gini Index\\nAccuracy is \",\n",
        "             accuracy_score(y_test, y_pred_gini)*100 )"
      ]
    },
    {
      "cell_type": "code",
      "execution_count": 18,
      "metadata": {
        "id": "wNYpOhYo6WdV"
      },
      "outputs": [],
      "source": [
        "import pickle"
      ]
    },
    {
      "cell_type": "code",
      "execution_count": 19,
      "metadata": {
        "id": "ZyasJ4148gYX"
      },
      "outputs": [],
      "source": [
        "with open(\"model.pkl\", \"wb\") as f:\n",
        "    pickle.dump(dt_clf_gini, f)"
      ]
    }
  ],
  "metadata": {
    "colab": {
      "authorship_tag": "ABX9TyNJeviWMyqC+s68uXmjYXD1",
      "include_colab_link": true,
      "provenance": []
    },
    "kernelspec": {
      "display_name": "Python 3",
      "name": "python3"
    },
    "language_info": {
      "codemirror_mode": {
        "name": "ipython",
        "version": 3
      },
      "file_extension": ".py",
      "mimetype": "text/x-python",
      "name": "python",
      "nbconvert_exporter": "python",
      "pygments_lexer": "ipython3",
      "version": "3.11.2"
    }
  },
  "nbformat": 4,
  "nbformat_minor": 0
}
