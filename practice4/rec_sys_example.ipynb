{
  "cells": [
    {
      "cell_type": "markdown",
      "metadata": {
        "id": "view-in-github",
        "colab_type": "text"
      },
      "source": [
        "<a href=\"https://colab.research.google.com/github/amalrik1/develop_ml_course/blob/main/practice4/rec_sys_example.ipynb\" target=\"_parent\"><img src=\"https://colab.research.google.com/assets/colab-badge.svg\" alt=\"Open In Colab\"/></a>"
      ]
    },
    {
      "cell_type": "markdown",
      "metadata": {
        "id": "oq34r7LFaCNQ"
      },
      "source": [
        "# Разработка рекомендательной системы на Python"
      ]
    },
    {
      "cell_type": "code",
      "source": [
        "from google.colab import drive\n",
        "drive.mount('/content/drive')"
      ],
      "metadata": {
        "colab": {
          "base_uri": "https://localhost:8080/"
        },
        "id": "zH5Uggq8aFVf",
        "outputId": "5b7f9939-81d9-45ea-cd5c-e65947cbc68c"
      },
      "execution_count": 2,
      "outputs": [
        {
          "output_type": "stream",
          "name": "stdout",
          "text": [
            "Mounted at /content/drive\n"
          ]
        }
      ]
    },
    {
      "cell_type": "markdown",
      "metadata": {
        "id": "vd2JA6g_aCNU"
      },
      "source": [
        "_Примечание: в контексте данной работы единицами рекомендаций будут являться фильмы, т.к. использование этого термина будет удобно с точки зрения используемого датасета._"
      ]
    },
    {
      "cell_type": "markdown",
      "metadata": {
        "id": "96hPSTlmaCNV"
      },
      "source": [
        "Можно выделить два основных типа рекомендательных систем."
      ]
    },
    {
      "cell_type": "markdown",
      "metadata": {
        "id": "jzZU6tjQaCNb"
      },
      "source": [
        "**Content-based**\n",
        "\n",
        "* Пользователю рекомендуются фильмы, похожие на те, которые он уже посмотрел.\n",
        "* Похожести оцениваются по признакам содержимого объектов.\n",
        "* Сильная зависимость от предметной области, полезность рекомендаций ограничена.\n",
        "\n",
        "Коллаборативная фильтрация (**Collaborative Filtering**)\n",
        "\n",
        "* Для рекомендации используется история оценок как самого пользователя, так и других пользователей.\n",
        "* Более универсальный подход, часто дает лучший результат.\n",
        "* Есть свои проблемы (например, холодный старт)."
      ]
    },
    {
      "cell_type": "markdown",
      "metadata": {
        "id": "odm-yIygaCNc"
      },
      "source": [
        "В большинстве случаев алгоритмы коллаборативной фильтрации (CF) показывают лучший результат, чем content-based системы. В данной работе будут рассматриваться два типа CF: **Memory-Based Collaborative Filtering** и **Model-Based Collaborative filtering**."
      ]
    },
    {
      "cell_type": "markdown",
      "metadata": {
        "id": "db9tUhESaCNc"
      },
      "source": [
        "## Датасет"
      ]
    },
    {
      "cell_type": "markdown",
      "metadata": {
        "id": "l_YXbBF8aCNc"
      },
      "source": [
        "В данной работе используется MovieLens Dataset (Small). Посмотреть информацию или скачать датасет можно [отсюда](https://grouplens.org/datasets/movielens/)."
      ]
    },
    {
      "cell_type": "code",
      "execution_count": null,
      "metadata": {
        "collapsed": true,
        "id": "y8VRq6YRaCNd"
      },
      "outputs": [],
      "source": [
        "import numpy as np\n",
        "import pandas as pd"
      ]
    },
    {
      "cell_type": "code",
      "execution_count": null,
      "metadata": {
        "id": "zdBrWIoaaCNe"
      },
      "outputs": [],
      "source": [
        "# загружаем датасет\n",
        "df = pd.read_csv('/content/drive/MyDrive/ml-latest-small/ratings.csv')"
      ]
    },
    {
      "cell_type": "code",
      "execution_count": null,
      "metadata": {
        "colab": {
          "base_uri": "https://localhost:8080/",
          "height": 206
        },
        "id": "NkZ3UAqIaCNf",
        "outputId": "8fabae9f-aca7-4db7-8d6f-27dea066f687"
      },
      "outputs": [
        {
          "output_type": "execute_result",
          "data": {
            "text/plain": [
              "   userId  movieId  rating   timestamp\n",
              "0       1       31     2.5  1260759144\n",
              "1       1     1029     3.0  1260759179\n",
              "2       1     1061     3.0  1260759182\n",
              "3       1     1129     2.0  1260759185\n",
              "4       1     1172     4.0  1260759205"
            ],
            "text/html": [
              "\n",
              "  <div id=\"df-b6324326-0b59-4ba0-92ad-a2af4e8c4d66\" class=\"colab-df-container\">\n",
              "    <div>\n",
              "<style scoped>\n",
              "    .dataframe tbody tr th:only-of-type {\n",
              "        vertical-align: middle;\n",
              "    }\n",
              "\n",
              "    .dataframe tbody tr th {\n",
              "        vertical-align: top;\n",
              "    }\n",
              "\n",
              "    .dataframe thead th {\n",
              "        text-align: right;\n",
              "    }\n",
              "</style>\n",
              "<table border=\"1\" class=\"dataframe\">\n",
              "  <thead>\n",
              "    <tr style=\"text-align: right;\">\n",
              "      <th></th>\n",
              "      <th>userId</th>\n",
              "      <th>movieId</th>\n",
              "      <th>rating</th>\n",
              "      <th>timestamp</th>\n",
              "    </tr>\n",
              "  </thead>\n",
              "  <tbody>\n",
              "    <tr>\n",
              "      <th>0</th>\n",
              "      <td>1</td>\n",
              "      <td>31</td>\n",
              "      <td>2.5</td>\n",
              "      <td>1260759144</td>\n",
              "    </tr>\n",
              "    <tr>\n",
              "      <th>1</th>\n",
              "      <td>1</td>\n",
              "      <td>1029</td>\n",
              "      <td>3.0</td>\n",
              "      <td>1260759179</td>\n",
              "    </tr>\n",
              "    <tr>\n",
              "      <th>2</th>\n",
              "      <td>1</td>\n",
              "      <td>1061</td>\n",
              "      <td>3.0</td>\n",
              "      <td>1260759182</td>\n",
              "    </tr>\n",
              "    <tr>\n",
              "      <th>3</th>\n",
              "      <td>1</td>\n",
              "      <td>1129</td>\n",
              "      <td>2.0</td>\n",
              "      <td>1260759185</td>\n",
              "    </tr>\n",
              "    <tr>\n",
              "      <th>4</th>\n",
              "      <td>1</td>\n",
              "      <td>1172</td>\n",
              "      <td>4.0</td>\n",
              "      <td>1260759205</td>\n",
              "    </tr>\n",
              "  </tbody>\n",
              "</table>\n",
              "</div>\n",
              "    <div class=\"colab-df-buttons\">\n",
              "\n",
              "  <div class=\"colab-df-container\">\n",
              "    <button class=\"colab-df-convert\" onclick=\"convertToInteractive('df-b6324326-0b59-4ba0-92ad-a2af4e8c4d66')\"\n",
              "            title=\"Convert this dataframe to an interactive table.\"\n",
              "            style=\"display:none;\">\n",
              "\n",
              "  <svg xmlns=\"http://www.w3.org/2000/svg\" height=\"24px\" viewBox=\"0 -960 960 960\">\n",
              "    <path d=\"M120-120v-720h720v720H120Zm60-500h600v-160H180v160Zm220 220h160v-160H400v160Zm0 220h160v-160H400v160ZM180-400h160v-160H180v160Zm440 0h160v-160H620v160ZM180-180h160v-160H180v160Zm440 0h160v-160H620v160Z\"/>\n",
              "  </svg>\n",
              "    </button>\n",
              "\n",
              "  <style>\n",
              "    .colab-df-container {\n",
              "      display:flex;\n",
              "      gap: 12px;\n",
              "    }\n",
              "\n",
              "    .colab-df-convert {\n",
              "      background-color: #E8F0FE;\n",
              "      border: none;\n",
              "      border-radius: 50%;\n",
              "      cursor: pointer;\n",
              "      display: none;\n",
              "      fill: #1967D2;\n",
              "      height: 32px;\n",
              "      padding: 0 0 0 0;\n",
              "      width: 32px;\n",
              "    }\n",
              "\n",
              "    .colab-df-convert:hover {\n",
              "      background-color: #E2EBFA;\n",
              "      box-shadow: 0px 1px 2px rgba(60, 64, 67, 0.3), 0px 1px 3px 1px rgba(60, 64, 67, 0.15);\n",
              "      fill: #174EA6;\n",
              "    }\n",
              "\n",
              "    .colab-df-buttons div {\n",
              "      margin-bottom: 4px;\n",
              "    }\n",
              "\n",
              "    [theme=dark] .colab-df-convert {\n",
              "      background-color: #3B4455;\n",
              "      fill: #D2E3FC;\n",
              "    }\n",
              "\n",
              "    [theme=dark] .colab-df-convert:hover {\n",
              "      background-color: #434B5C;\n",
              "      box-shadow: 0px 1px 3px 1px rgba(0, 0, 0, 0.15);\n",
              "      filter: drop-shadow(0px 1px 2px rgba(0, 0, 0, 0.3));\n",
              "      fill: #FFFFFF;\n",
              "    }\n",
              "  </style>\n",
              "\n",
              "    <script>\n",
              "      const buttonEl =\n",
              "        document.querySelector('#df-b6324326-0b59-4ba0-92ad-a2af4e8c4d66 button.colab-df-convert');\n",
              "      buttonEl.style.display =\n",
              "        google.colab.kernel.accessAllowed ? 'block' : 'none';\n",
              "\n",
              "      async function convertToInteractive(key) {\n",
              "        const element = document.querySelector('#df-b6324326-0b59-4ba0-92ad-a2af4e8c4d66');\n",
              "        const dataTable =\n",
              "          await google.colab.kernel.invokeFunction('convertToInteractive',\n",
              "                                                    [key], {});\n",
              "        if (!dataTable) return;\n",
              "\n",
              "        const docLinkHtml = 'Like what you see? Visit the ' +\n",
              "          '<a target=\"_blank\" href=https://colab.research.google.com/notebooks/data_table.ipynb>data table notebook</a>'\n",
              "          + ' to learn more about interactive tables.';\n",
              "        element.innerHTML = '';\n",
              "        dataTable['output_type'] = 'display_data';\n",
              "        await google.colab.output.renderOutput(dataTable, element);\n",
              "        const docLink = document.createElement('div');\n",
              "        docLink.innerHTML = docLinkHtml;\n",
              "        element.appendChild(docLink);\n",
              "      }\n",
              "    </script>\n",
              "  </div>\n",
              "\n",
              "\n",
              "<div id=\"df-6296d7a4-232b-45f0-96d7-5f40adb42d5e\">\n",
              "  <button class=\"colab-df-quickchart\" onclick=\"quickchart('df-6296d7a4-232b-45f0-96d7-5f40adb42d5e')\"\n",
              "            title=\"Suggest charts.\"\n",
              "            style=\"display:none;\">\n",
              "\n",
              "<svg xmlns=\"http://www.w3.org/2000/svg\" height=\"24px\"viewBox=\"0 0 24 24\"\n",
              "     width=\"24px\">\n",
              "    <g>\n",
              "        <path d=\"M19 3H5c-1.1 0-2 .9-2 2v14c0 1.1.9 2 2 2h14c1.1 0 2-.9 2-2V5c0-1.1-.9-2-2-2zM9 17H7v-7h2v7zm4 0h-2V7h2v10zm4 0h-2v-4h2v4z\"/>\n",
              "    </g>\n",
              "</svg>\n",
              "  </button>\n",
              "\n",
              "<style>\n",
              "  .colab-df-quickchart {\n",
              "      --bg-color: #E8F0FE;\n",
              "      --fill-color: #1967D2;\n",
              "      --hover-bg-color: #E2EBFA;\n",
              "      --hover-fill-color: #174EA6;\n",
              "      --disabled-fill-color: #AAA;\n",
              "      --disabled-bg-color: #DDD;\n",
              "  }\n",
              "\n",
              "  [theme=dark] .colab-df-quickchart {\n",
              "      --bg-color: #3B4455;\n",
              "      --fill-color: #D2E3FC;\n",
              "      --hover-bg-color: #434B5C;\n",
              "      --hover-fill-color: #FFFFFF;\n",
              "      --disabled-bg-color: #3B4455;\n",
              "      --disabled-fill-color: #666;\n",
              "  }\n",
              "\n",
              "  .colab-df-quickchart {\n",
              "    background-color: var(--bg-color);\n",
              "    border: none;\n",
              "    border-radius: 50%;\n",
              "    cursor: pointer;\n",
              "    display: none;\n",
              "    fill: var(--fill-color);\n",
              "    height: 32px;\n",
              "    padding: 0;\n",
              "    width: 32px;\n",
              "  }\n",
              "\n",
              "  .colab-df-quickchart:hover {\n",
              "    background-color: var(--hover-bg-color);\n",
              "    box-shadow: 0 1px 2px rgba(60, 64, 67, 0.3), 0 1px 3px 1px rgba(60, 64, 67, 0.15);\n",
              "    fill: var(--button-hover-fill-color);\n",
              "  }\n",
              "\n",
              "  .colab-df-quickchart-complete:disabled,\n",
              "  .colab-df-quickchart-complete:disabled:hover {\n",
              "    background-color: var(--disabled-bg-color);\n",
              "    fill: var(--disabled-fill-color);\n",
              "    box-shadow: none;\n",
              "  }\n",
              "\n",
              "  .colab-df-spinner {\n",
              "    border: 2px solid var(--fill-color);\n",
              "    border-color: transparent;\n",
              "    border-bottom-color: var(--fill-color);\n",
              "    animation:\n",
              "      spin 1s steps(1) infinite;\n",
              "  }\n",
              "\n",
              "  @keyframes spin {\n",
              "    0% {\n",
              "      border-color: transparent;\n",
              "      border-bottom-color: var(--fill-color);\n",
              "      border-left-color: var(--fill-color);\n",
              "    }\n",
              "    20% {\n",
              "      border-color: transparent;\n",
              "      border-left-color: var(--fill-color);\n",
              "      border-top-color: var(--fill-color);\n",
              "    }\n",
              "    30% {\n",
              "      border-color: transparent;\n",
              "      border-left-color: var(--fill-color);\n",
              "      border-top-color: var(--fill-color);\n",
              "      border-right-color: var(--fill-color);\n",
              "    }\n",
              "    40% {\n",
              "      border-color: transparent;\n",
              "      border-right-color: var(--fill-color);\n",
              "      border-top-color: var(--fill-color);\n",
              "    }\n",
              "    60% {\n",
              "      border-color: transparent;\n",
              "      border-right-color: var(--fill-color);\n",
              "    }\n",
              "    80% {\n",
              "      border-color: transparent;\n",
              "      border-right-color: var(--fill-color);\n",
              "      border-bottom-color: var(--fill-color);\n",
              "    }\n",
              "    90% {\n",
              "      border-color: transparent;\n",
              "      border-bottom-color: var(--fill-color);\n",
              "    }\n",
              "  }\n",
              "</style>\n",
              "\n",
              "  <script>\n",
              "    async function quickchart(key) {\n",
              "      const quickchartButtonEl =\n",
              "        document.querySelector('#' + key + ' button');\n",
              "      quickchartButtonEl.disabled = true;  // To prevent multiple clicks.\n",
              "      quickchartButtonEl.classList.add('colab-df-spinner');\n",
              "      try {\n",
              "        const charts = await google.colab.kernel.invokeFunction(\n",
              "            'suggestCharts', [key], {});\n",
              "      } catch (error) {\n",
              "        console.error('Error during call to suggestCharts:', error);\n",
              "      }\n",
              "      quickchartButtonEl.classList.remove('colab-df-spinner');\n",
              "      quickchartButtonEl.classList.add('colab-df-quickchart-complete');\n",
              "    }\n",
              "    (() => {\n",
              "      let quickchartButtonEl =\n",
              "        document.querySelector('#df-6296d7a4-232b-45f0-96d7-5f40adb42d5e button');\n",
              "      quickchartButtonEl.style.display =\n",
              "        google.colab.kernel.accessAllowed ? 'block' : 'none';\n",
              "    })();\n",
              "  </script>\n",
              "</div>\n",
              "    </div>\n",
              "  </div>\n"
            ]
          },
          "metadata": {},
          "execution_count": 4
        }
      ],
      "source": [
        "# смотрим на структуру\n",
        "df.head()"
      ]
    },
    {
      "cell_type": "code",
      "execution_count": null,
      "metadata": {
        "collapsed": true,
        "id": "doOrxvGtaCNg"
      },
      "outputs": [],
      "source": [
        "# выводим количество пользователей и фильмов\n",
        "n_users = df['userId'].unique().shape[0]\n",
        "n_items = df['movieId'].unique().shape[0]"
      ]
    },
    {
      "cell_type": "code",
      "execution_count": null,
      "metadata": {
        "colab": {
          "base_uri": "https://localhost:8080/"
        },
        "id": "CVxJ4Yp7aCNg",
        "outputId": "9071c1bc-56dd-405c-8e30-4119bec69668"
      },
      "outputs": [
        {
          "output_type": "stream",
          "name": "stdout",
          "text": [
            "Users: 671, Items: 9066\n"
          ]
        }
      ],
      "source": [
        "print('Users: {}, Items: {}'.format(n_users, n_items))"
      ]
    },
    {
      "cell_type": "code",
      "execution_count": null,
      "metadata": {
        "id": "tpAVF4staCNh"
      },
      "outputs": [],
      "source": [
        "# чтобы можно было удобно работать дальше, необходимо отмасштабировать\n",
        "# значения в колонке movieId (новые значения будут в диапазоне от 1 до\n",
        "# количества фильмов)\n",
        "input_list = df['movieId'].unique()\n",
        "\n",
        "def scale_movie_id(input_id):\n",
        "    return np.where(input_list == input_id)[0][0] + 1\n",
        "\n",
        "df['movieId'] = df['movieId'].apply(scale_movie_id)"
      ]
    },
    {
      "cell_type": "code",
      "execution_count": null,
      "metadata": {
        "id": "4uO8hmzZaCNh"
      },
      "outputs": [],
      "source": [
        "from sklearn import model_selection as cv\n",
        "\n",
        "# делим данные на тренировочный и тестовый наборы\n",
        "train_data, test_data = cv.train_test_split(df, test_size=0.20)"
      ]
    },
    {
      "cell_type": "markdown",
      "metadata": {
        "id": "Y7lcCLzOaCNi"
      },
      "source": [
        "## Memory-Based Collaborative Filtering"
      ]
    },
    {
      "cell_type": "markdown",
      "metadata": {
        "id": "BmmK_lMVaCNi"
      },
      "source": [
        "Memory-Based Collaborative Filtering подходы можно разделить на две части: **user-item filtering** and **item-item filtering**."
      ]
    },
    {
      "cell_type": "markdown",
      "metadata": {
        "id": "jMBM8UC-aCNi"
      },
      "source": [
        "В user-item filtering мы:\n",
        "\n",
        "1. Берём исходного пользователя\n",
        "2. Находим группу пользователей, которая максимально похожа на него (основываясь, например, оценках) и узнаём, какие фильмы понравились этой группе.\n",
        "3. Нашему исходному пользователю рекомендуем фильмы, которые нравятся найденной группе пользователей.\n",
        "\n",
        "На входе пользователь, на выходе – рекомендация фильмов для данного пользователя."
      ]
    },
    {
      "cell_type": "markdown",
      "metadata": {
        "id": "B0sWWFCLaCNi"
      },
      "source": [
        "В item-item filtering мы:\n",
        "    \n",
        "1. Берём какой-либо фильм\n",
        "2. Находим пользователей, которым нравится этот фильм\n",
        "3. Смотрим на фильмы, которые нравятся найденным пользователям и выводим их в качестве рекомендации к исходному товару\n",
        "\n",
        "На входе фильм, на выходе – рекомендация в виде похожих фильмов."
      ]
    },
    {
      "cell_type": "markdown",
      "metadata": {
        "id": "OqsGaHljaCNi"
      },
      "source": [
        "* Item-Item Collaborative Filtering: \"Пользователям, которым нравится данный фильм, может так же понравиться это ...\"\n",
        "* User-Item Collaborative Filtering: \"Похожим на вас пользователям нравится это ...\""
      ]
    },
    {
      "cell_type": "markdown",
      "metadata": {
        "id": "mNaa0NxdaCNj"
      },
      "source": [
        "В обоих случаях нам необходимо создать user-item матрицу, которая будет выглядеть следующим образом:\n",
        "\n",
        "|       | Item1 | Item2 | Item3 |\n",
        "|-------|-------|-------|-------|\n",
        "| User1 |   5   |   3   |   4   |\n",
        "| User2 |   4   |   0   |   0   |\n",
        "| User3 |   0   |   0   |   0   |\n",
        "\n",
        "В ячейках матрицы будет записана информация об оценке фильма $m$ пользователя $n$."
      ]
    },
    {
      "cell_type": "code",
      "execution_count": null,
      "metadata": {
        "id": "Ov_R-L5uaCNj"
      },
      "outputs": [],
      "source": [
        "# создаём две user-item матрицы – для обучения и для теста\n",
        "train_data_matrix = np.zeros((n_users, n_items))\n",
        "for line in train_data.itertuples():\n",
        "    train_data_matrix[line[1] - 1, line[2] - 1] = line[3]\n",
        "\n",
        "test_data_matrix = np.zeros((n_users, n_items))\n",
        "for line in test_data.itertuples():\n",
        "    test_data_matrix[line[1] - 1, line[2] - 1] = line[3]"
      ]
    },
    {
      "cell_type": "markdown",
      "metadata": {
        "id": "eplTsy0jaCNj"
      },
      "source": [
        "После того, как мы построим данную матрицу, на её основе необходимо будет рассчитать две новые матрицы с коэффициентами сходства (похожести, близости) для пользователей и для фильмов."
      ]
    },
    {
      "cell_type": "markdown",
      "metadata": {
        "id": "n0wmNSLzaCNj"
      },
      "source": [
        "В качестве метрики близости в данной работе используется косинусное расстояние между векторами пользователей (фильмов)."
      ]
    },
    {
      "cell_type": "markdown",
      "metadata": {
        "id": "BsoTsEbZaCNk"
      },
      "source": [
        "Формула для пользователей:"
      ]
    },
    {
      "cell_type": "markdown",
      "metadata": {
        "id": "mJwlD99gaCNk"
      },
      "source": [
        "$$ s_{u}^{cos}(u_k, u_a) = \\frac{u_k \\cdot  u_a}{\\left \\| u_k \\right \\| \\left \\| u_a \\right \\|} = \\frac{\\sum x_{k,m} x_{a,m}}{\\sqrt{\\sum x_{k,m}^2 \\sum x_{a,m}^2}} $$"
      ]
    },
    {
      "cell_type": "markdown",
      "metadata": {
        "id": "up2HQpm0aCNk"
      },
      "source": [
        "Формула для фильмов:"
      ]
    },
    {
      "cell_type": "markdown",
      "metadata": {
        "id": "fDYWuJaFaCNk"
      },
      "source": [
        "$$ s_{u}^{cos}(i_m, i_b) = \\frac{i_m \\cdot  i_b}{\\left \\| i_m \\right \\| \\left \\| i_b \\right \\|} = \\frac{\\sum x_{a,m} x_{a,b}}{\\sqrt{\\sum x_{a,m}^2 \\sum x_{a,b}^2}} $$"
      ]
    },
    {
      "cell_type": "code",
      "execution_count": null,
      "metadata": {
        "collapsed": true,
        "id": "UaLkMR8uaCNk"
      },
      "outputs": [],
      "source": [
        "from sklearn.metrics.pairwise import pairwise_distances\n",
        "\n",
        "# считаем косинусное расстояние для пользователей и фильмов\n",
        "user_similarity = pairwise_distances(train_data_matrix, metric='cosine')\n",
        "item_similarity = pairwise_distances(train_data_matrix.T, metric='cosine')"
      ]
    },
    {
      "cell_type": "markdown",
      "metadata": {
        "id": "IyQSc1B1aCNk"
      },
      "source": [
        "Матрица \"похожести\" для пользователей имеет следующий вид (аналогичную структуру имеет и матрицы для фильмов):\n",
        "\n",
        "|       | User1 | User1 | User3 |\n",
        "|-------|-------|-------|-------|\n",
        "| User1 |   0   | 0.87  | 0.99  |\n",
        "| User2 |   123   |   0   |   123123   |\n",
        "| User3 |   123   |   123   |   0  |"
      ]
    },
    {
      "cell_type": "markdown",
      "metadata": {
        "id": "jg41UoDgaCNl"
      },
      "source": [
        "Для предсказания в user-based CF необходимо применить следующую формулу:"
      ]
    },
    {
      "cell_type": "markdown",
      "metadata": {
        "id": "oSwFvwYMaCNl"
      },
      "source": [
        "$$ \\hat{x}_{k,m} = \\overline{x}_k + \\frac{\\sum_{u_a} sim_u(u_k, u_a)(x_{a,m} - \\overline{x}_{u_a})}{\\sum_{u_a} \\left | sim_u(u_k, u_a) \\right |} $$"
      ]
    },
    {
      "cell_type": "markdown",
      "metadata": {
        "id": "_On1O2n_aCNl"
      },
      "source": [
        "Для item-based CF:"
      ]
    },
    {
      "cell_type": "markdown",
      "metadata": {
        "id": "H19USmsbaCNl"
      },
      "source": [
        "$$ \\hat{x}_{k,m} = \\frac{\\sum_{i_b} sim_i(i_m, i_b)(x_{k,b})}{\\sum_{i_b} \\left | sim_i(i_m, i_b) \\right |} $$"
      ]
    },
    {
      "cell_type": "code",
      "execution_count": null,
      "metadata": {
        "id": "iJjnU6coaCNm"
      },
      "outputs": [],
      "source": [
        "def predict(ratings, similarity, type='user'):\n",
        "    if type == 'user':\n",
        "        mean_user_rating = ratings.mean(axis=1)\n",
        "        ratings_diff = (ratings - mean_user_rating[:, np.newaxis])\n",
        "        pred = mean_user_rating[:, np.newaxis] + similarity.dot(ratings_diff) / np.array([np.abs(similarity).sum(axis=1)]).T\n",
        "    elif type == 'item':\n",
        "        pred = ratings.dot(similarity) / np.array([np.abs(similarity).sum(axis=1)])\n",
        "    return pred"
      ]
    },
    {
      "cell_type": "code",
      "execution_count": null,
      "metadata": {
        "collapsed": true,
        "id": "Fx9Cu7GtaCNm"
      },
      "outputs": [],
      "source": [
        "item_prediction = predict(train_data_matrix, item_similarity, type='item')\n",
        "user_prediction = predict(train_data_matrix, user_similarity, type='user')"
      ]
    },
    {
      "cell_type": "markdown",
      "metadata": {
        "id": "lshd65v0aCNm"
      },
      "source": [
        "Для оценки качества предсказания используем метрику RMSE (Root Mean Square Error, cреднеквадратичная ошибка):"
      ]
    },
    {
      "cell_type": "markdown",
      "metadata": {
        "id": "Rr7-LAgSaCNn"
      },
      "source": [
        "$$ RMSE = \\sqrt{\\frac{1}{N}\\sum (x_i - \\hat{x}_i)^2} $$"
      ]
    },
    {
      "cell_type": "code",
      "execution_count": null,
      "metadata": {
        "collapsed": true,
        "id": "DVbMu5oeaCNn"
      },
      "outputs": [],
      "source": [
        "from sklearn.metrics import mean_squared_error\n",
        "from math import sqrt\n",
        "\n",
        "def rmse(prediction, ground_truth):\n",
        "    prediction = prediction[ground_truth.nonzero()].flatten()\n",
        "    ground_truth = ground_truth[ground_truth.nonzero()].flatten()\n",
        "    return sqrt(mean_squared_error(prediction, ground_truth))"
      ]
    },
    {
      "cell_type": "code",
      "execution_count": null,
      "metadata": {
        "colab": {
          "base_uri": "https://localhost:8080/"
        },
        "id": "i8yQdHNraCNn",
        "outputId": "a00ab5f4-1c0d-4f72-bd07-f7da4949c2e2"
      },
      "outputs": [
        {
          "output_type": "stream",
          "name": "stdout",
          "text": [
            "User-based CF RMSE: 3.341258758695958\n",
            "Item-based CF RMSE: 3.5693164557076957\n"
          ]
        }
      ],
      "source": [
        "print('User-based CF RMSE: ' + str(rmse(user_prediction, test_data_matrix)))\n",
        "print('Item-based CF RMSE: ' + str(rmse(item_prediction, test_data_matrix)))"
      ]
    },
    {
      "cell_type": "markdown",
      "metadata": {
        "id": "0m-40DFbaCNo"
      },
      "source": [
        "## Model-based Collaborative Filtering"
      ]
    },
    {
      "cell_type": "markdown",
      "metadata": {
        "id": "s6ofqK7XaCNp"
      },
      "source": [
        "Model-based Collaborative Filtering основана на разложении матрицы. В данной работе используется метод разложения, который называется **singular value decomposition** (SVD, cингулярное разложение). Смысл этого разложения в том, что исходную матрицу $X$ мы разбиваем на произведение ортогональных матриц $U$ и $V^T$ и диагональной матрицы $S$."
      ]
    },
    {
      "cell_type": "markdown",
      "metadata": {
        "id": "aVqMh9-TaCNp"
      },
      "source": [
        "$$ X = UV^TS $$"
      ]
    },
    {
      "cell_type": "markdown",
      "metadata": {
        "id": "PxR12BtTaCNp"
      },
      "source": [
        "В нашем случае $X$ – разреженная (состоящая преимущественно из нулей) user-item матрица. Разложив её на компоненты, мы можем их вновь перемножить и получить \"восстановленную\" матрицу $\\hat{X}$. Матрица $\\hat{X}$ и будет являться нашим предсказанием – метод SVD сделал сам за нас всё работу и заполнил пропуски в исходной матрице $X$"
      ]
    },
    {
      "cell_type": "markdown",
      "metadata": {
        "id": "NPKvQYLMaCNp"
      },
      "source": [
        "$$ UV^TS \\approx \\hat{X}$$"
      ]
    },
    {
      "cell_type": "code",
      "execution_count": null,
      "metadata": {
        "id": "VWH7Qb0eaCNq"
      },
      "outputs": [],
      "source": [
        "import scipy.sparse as sp\n",
        "from scipy.sparse.linalg import svds"
      ]
    },
    {
      "cell_type": "code",
      "execution_count": null,
      "metadata": {
        "colab": {
          "base_uri": "https://localhost:8080/"
        },
        "id": "DWU5l2dmaCNq",
        "outputId": "819d3760-e70e-439b-d3b2-33c938279fd2"
      },
      "outputs": [
        {
          "output_type": "stream",
          "name": "stdout",
          "text": [
            "User-based CF MSE: 2.9964446323785032\n"
          ]
        }
      ],
      "source": [
        "# делаем SVD\n",
        "u, s, vt = svds(train_data_matrix, k=10)\n",
        "s_diag_matrix = np.diag(s)\n",
        "\n",
        "# предсказываем\n",
        "X_pred = np.dot(np.dot(u, s_diag_matrix), vt)\n",
        "\n",
        "# выводим метрику\n",
        "print('User-based CF MSE: ' + str(rmse(X_pred, test_data_matrix)))"
      ]
    },
    {
      "cell_type": "markdown",
      "metadata": {
        "id": "F3vx8VmKaCNq"
      },
      "source": [
        "## Hybrid Recommender Systems"
      ]
    },
    {
      "cell_type": "markdown",
      "metadata": {
        "id": "N06NIQSaaCNq"
      },
      "source": [
        "Пару слов стоит сказать о наиболее эффективной на практике гибридной рекомендательной системе. Его суть заключается в том, чтобы комбинировать в себе сontent-based модели и сollaborative filtering. Используя дополнительную информацию о фильмах (жанр, теги, год выпуска и т.д.) и мощь алгоритмов коллаборативной фильтрации, можно добиться впечатляющего результата."
      ]
    },
    {
      "cell_type": "markdown",
      "metadata": {
        "id": "2FvpRA1AaCNr"
      },
      "source": [
        "## Что почитать по этой теме"
      ]
    },
    {
      "cell_type": "markdown",
      "metadata": {
        "id": "8yk4tmaEaCNr"
      },
      "source": [
        "[Implementing your own recommender systems in Python](http://online.cambridgecoding.com/notebooks/eWReNYcAfB/implementing-your-own-recommender-systems-in-python-2)<br/>\n",
        "[Как работают рекомендательные системы. Лекция в Яндексе](https://habrahabr.ru/company/yandex/blog/241455/)"
      ]
    }
  ],
  "metadata": {
    "kernelspec": {
      "display_name": "Python 3",
      "language": "python",
      "name": "python3"
    },
    "language_info": {
      "codemirror_mode": {
        "name": "ipython",
        "version": 3
      },
      "file_extension": ".py",
      "mimetype": "text/x-python",
      "name": "python",
      "nbconvert_exporter": "python",
      "pygments_lexer": "ipython3",
      "version": "3.6.0"
    },
    "colab": {
      "provenance": [],
      "include_colab_link": true
    }
  },
  "nbformat": 4,
  "nbformat_minor": 0
}