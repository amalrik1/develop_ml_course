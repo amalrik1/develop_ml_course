{
  "nbformat": 4,
  "nbformat_minor": 0,
  "metadata": {
    "colab": {
      "provenance": [],
      "authorship_tag": "ABX9TyM/S99h83y4hJYMOyxVU09J"
    },
    "kernelspec": {
      "name": "python3",
      "display_name": "Python 3"
    },
    "language_info": {
      "name": "python"
    }
  },
  "cells": [
    {
      "cell_type": "markdown",
      "source": [
        "Для работы нам понадобятся две библиотеки:\n",
        "\n",
        "\n",
        "*  requests - для удобного формирования HTTP-запросов и получения ответов\n",
        "*  json - для кодирования и декодирования данных JSON.\n",
        "\n"
      ],
      "metadata": {
        "id": "-jSHwalG2xfo"
      }
    },
    {
      "cell_type": "code",
      "execution_count": null,
      "metadata": {
        "id": "GPYjSCcs0nU-"
      },
      "outputs": [],
      "source": [
        "import requests\n",
        "import json"
      ]
    },
    {
      "cell_type": "markdown",
      "source": [
        "Будем искать по базе данных OMDB фильм. API_KEY получили при регистрации на сайте."
      ],
      "metadata": {
        "id": "YMiS8Ris3fJo"
      }
    },
    {
      "cell_type": "code",
      "source": [
        "title = input('Введите фильм для поиска ')\n",
        "API_KEY = '56ba1b2f'"
      ],
      "metadata": {
        "colab": {
          "base_uri": "https://localhost:8080/"
        },
        "id": "XgF6I7x30zvT",
        "outputId": "e894811c-ab77-431d-941a-a36a3e38e738"
      },
      "execution_count": null,
      "outputs": [
        {
          "name": "stdout",
          "output_type": "stream",
          "text": [
            "Введите фильм для поиска Batman\n"
          ]
        }
      ]
    },
    {
      "cell_type": "code",
      "source": [
        "response = requests.get(f'http://www.omdbapi.com/?t={title}&apikey={API_KEY}')"
      ],
      "metadata": {
        "id": "aTf3k78_1Cwq"
      },
      "execution_count": null,
      "outputs": []
    },
    {
      "cell_type": "code",
      "source": [
        "response.raise_for_status()"
      ],
      "metadata": {
        "id": "c21lgtj91_Jb"
      },
      "execution_count": null,
      "outputs": []
    },
    {
      "cell_type": "markdown",
      "source": [
        "В модуле json вы найдете load() и loads() для превращения кодированных данных JSON в объекты Python."
      ],
      "metadata": {
        "id": "itHTEtLP4EBd"
      }
    },
    {
      "cell_type": "code",
      "source": [
        "json_data = json.loads(response.text)"
      ],
      "metadata": {
        "id": "yvys2XcX2Hqh"
      },
      "execution_count": null,
      "outputs": []
    },
    {
      "cell_type": "code",
      "source": [
        "print(json_data)"
      ],
      "metadata": {
        "colab": {
          "base_uri": "https://localhost:8080/"
        },
        "id": "tiEHwDEP2Rth",
        "outputId": "54884f24-7120-462e-9040-671fb157f4b7"
      },
      "execution_count": null,
      "outputs": [
        {
          "output_type": "stream",
          "name": "stdout",
          "text": [
            "{'Title': 'Batman', 'Year': '1989', 'Rated': 'PG-13', 'Released': '23 Jun 1989', 'Runtime': '126 min', 'Genre': 'Action, Adventure', 'Director': 'Tim Burton', 'Writer': 'Bob Kane, Sam Hamm, Warren Skaaren', 'Actors': 'Michael Keaton, Jack Nicholson, Kim Basinger', 'Plot': 'The Dark Knight of Gotham City begins his war on crime with his first major enemy being Jack Napier, a criminal who becomes the clownishly homicidal Joker.', 'Language': 'English, French, Spanish', 'Country': 'United States, United Kingdom', 'Awards': 'Won 1 Oscar. 10 wins & 26 nominations total', 'Poster': 'https://m.media-amazon.com/images/M/MV5BMTYwNjAyODIyMF5BMl5BanBnXkFtZTYwNDMwMDk2._V1_SX300.jpg', 'Ratings': [{'Source': 'Internet Movie Database', 'Value': '7.5/10'}, {'Source': 'Rotten Tomatoes', 'Value': '76%'}, {'Source': 'Metacritic', 'Value': '69/100'}], 'Metascore': '69', 'imdbRating': '7.5', 'imdbVotes': '392,450', 'imdbID': 'tt0096895', 'Type': 'movie', 'DVD': '24 Jul 2014', 'BoxOffice': '$251,409,241', 'Production': 'N/A', 'Website': 'N/A', 'Response': 'True'}\n"
          ]
        }
      ]
    },
    {
      "cell_type": "code",
      "source": [
        "year = json_data['Year']\n",
        "print(year)"
      ],
      "metadata": {
        "colab": {
          "base_uri": "https://localhost:8080/"
        },
        "id": "hMMpP7C52geC",
        "outputId": "cc659e68-1c12-47d7-c1d0-10aa4982fdd1"
      },
      "execution_count": null,
      "outputs": [
        {
          "output_type": "stream",
          "name": "stdout",
          "text": [
            "1989\n"
          ]
        }
      ]
    }
  ]
}